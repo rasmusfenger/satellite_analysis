{
 "cells": [
  {
   "cell_type": "code",
   "execution_count": 5,
   "metadata": {
    "collapsed": false
   },
   "outputs": [
    {
     "data": {
      "image/png": "[encoded data removed]",
      "text/plain": [
       "<Figure size 129.6x129.6 with 1 Axes>"
      ]
     },
     "metadata": {},
     "output_type": "display_data"
    },
    {
     "name": "stdout",
     "output_type": "stream",
     "text": [
      "[92.22, 7.78]\n"
     ]
    }
   ],
   "source": [
    "# make circle diagrams for article figure 5\n",
    "# numbers derive from shapefiles:\n",
    "# e.g. RASMUS_1⁩/Satellite⁩/remains_sites⁩/iffiartafik/analysis/vegetation_map.shp\n",
    "\n",
    "import matplotlib.pyplot as plt\n",
    "site = 'iffiartafik'\n",
    "#site = 'kangeq'\n",
    "#site = 'ersaa'\n",
    "#site = 'sandnes'\n",
    "#site = 'qoornoq'\n",
    "#stype = 'Archaeological site'\n",
    "stype = 'Reference area'\n",
    "save = False\n",
    "\n",
    "# Iffiartafik\n",
    "if site == 'iffiartafik':\n",
    "    if stype == 'Archaeological site':\n",
    "        # Archaeological site\n",
    "        labels = ['Graminoids', 'Mixed low vegetation'] \n",
    "        sizes = [62.15, 37.85]\n",
    "        colors = ['green','orange']\n",
    "    elif stype == 'Reference area':\n",
    "        # Reference\t\n",
    "        labels = ['Decidous shrubs', 'Mixed low vegetation'] \n",
    "        sizes = [92.22, 7.78]\n",
    "        colors = ['blue','orange']\n",
    "\n",
    "# Kangeq\n",
    "if site == 'kangeq':\n",
    "    if stype == 'Archaeological site':\n",
    "        # Archaeological site\n",
    "        labels = ['Graminoids', 'Decidous shrubs'] \n",
    "        sizes = [1262, 9]\n",
    "        colors = ['green','blue']\n",
    "    elif stype == 'Reference area':\n",
    "        # Reference\t\n",
    "        labels = ['Mixed low vegetation'] \n",
    "        sizes = [801]\n",
    "        colors = ['orange']\n",
    "\n",
    "# Ersaa\n",
    "if site == 'ersaa':\n",
    "    if stype == 'Archaeological site':\n",
    "        # Archaeological site\n",
    "        labels = ['Graminoids', 'Decidous shrubs', 'Mixed low vegetation'] \n",
    "        sizes = [366, 232, 113]\n",
    "        colors = ['green','blue','orange']\n",
    "    elif stype == 'Reference area':\n",
    "        # Reference\t\n",
    "        labels = ['Mixed low vegetation', 'Rock'] \n",
    "        sizes = [4392, 656]\n",
    "        colors = ['orange','grey']\n",
    "        \n",
    "# Sandnes\n",
    "if site == 'sandnes':\n",
    "    if stype == 'Archaeological site':\n",
    "        # Archaeological site\n",
    "        labels = ['Graminoids', 'Decidous shrubs', 'Mixed low vegetation'] \n",
    "        sizes = [3991+210+204, 1856+209+11+20+19, 890+7+32+40+117+79]\n",
    "        colors = ['green','blue','orange']\n",
    "    elif stype == 'Reference area':\n",
    "        # Reference\t\n",
    "        labels = ['Graminoids', 'Decidous shrubs', 'Mixed low vegetation'] \n",
    "        sizes = [509+558+74, 3935+6+91+1131+10+54+7886, 13+523+8385]\n",
    "        colors = ['green','blue','orange']       \n",
    "\n",
    "# Qoornoq\n",
    "if site == 'qoornoq':\n",
    "    if stype == 'Archaeological site':\n",
    "        # Archaeological site\n",
    "        labels = ['Graminoids', 'Decidous shrubs', 'Mixed low vegetation', 'Forbs'] \n",
    "        sizes = [1020+10, 28, 20, 76]\n",
    "        colors = ['green','blue','orange','red']\n",
    "    elif stype == 'Reference area':\n",
    "        # Reference\t\n",
    "        labels = ['Decidous shrubs', 'Mixed low vegetation','Rock'] \n",
    "        sizes = [10+2+7+10+15+2+1+3+1, 525, 27+64+1+3+2+2+2+3]\n",
    "        colors = ['blue','orange','grey']       \n",
    "        \n",
    "#figure(num=None, figsize=(8, 6), dpi=80, facecolor='w', edgecolor='k')\n",
    "patches, texts = plt.pie(sizes, colors=colors, shadow=False, startangle=90)\n",
    "plt.legend(patches, labels, loc=3)\n",
    "plt.axis('equal')\n",
    "plt.tight_layout()\n",
    "#plt.title(stype)#, fontsize=20)\n",
    "#plt.title('Archaeological site')\n",
    "plt.title('Reference area')\n",
    "fig = plt.gcf()\n",
    "fig.set_size_inches(1.8,1.8)\n",
    "plt.show()\n",
    "fname = '/Users/rasmus/Google Drive/Phd/Skrivning/paper 1/figures/'+site+'_'+stype+'.jpg'\n",
    "if save:\n",
    "    fig.savefig(fname, dpi=300, bbox_inches = 'tight')\n",
    "print sizes"
   ]
  }
 ],
 "metadata": {
  "kernelspec": {
   "display_name": "Python 2",
   "language": "python",
   "name": "python2"
  },
  "language_info": {
   "codemirror_mode": {
    "name": "ipython",
    "version": 2
   },
   "file_extension": ".py",
   "mimetype": "text/x-python",
   "name": "python",
   "nbconvert_exporter": "python",
   "pygments_lexer": "ipython2",
   "version": "2.7.6"
  }
 },
 "nbformat": 4,
 "nbformat_minor": 2
}
