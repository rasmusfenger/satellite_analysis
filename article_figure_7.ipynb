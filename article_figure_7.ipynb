{
 "cells": [
  {
   "cell_type": "code",
   "execution_count": null,
   "metadata": {
    "collapsed": true
   },
   "outputs": [],
   "source": [
    "# Merge A, B and C in figure 7 to one file.\n",
    "# Figures were generated in qgis from these files:\n",
    "# sequoia: /Volumes/RASMUS_1/Satellite/remains_sites/iffiartafik/sequoia/iffiartafik_2016_100m_seqirrad_empcorr_moved.tif\n",
    "# pleiades: /Volumes/RASMUS_1/Satellite/remains_sites/iffiartafik/pleiades/iffiartafik_pleiades_20160723_ms_atmcorr_subset_moved.tif\n",
    "# Sentinel-2: /Volumes/RASMUS_1/Satellite/remains_sites/iffiartafik/S2/atmcorr/S2A_OPER_MSI_L1C_TL_SGS__20160728T202436_A005742_T22WES_atmcorr_subset_moved.tif\n",
    "# Legend was added in powerpoint\n",
    "\n",
    "import sys\n",
    "from PIL import Image\n",
    "import os\n",
    "\n",
    "fileList = []\n",
    "path = '/Users/rasmus/Google Drive/Phd/Skrivning/paper 1/figures/raw'\n",
    "fileList.append(os.path.join(path,'iffiartafik_nir_seq.png'))\n",
    "fileList.append(os.path.join(path,'iffiartafik_nir_pleiades.png'))\n",
    "fileList.append(os.path.join(path,'iffiartafik_nir_S2.png'))\n",
    "\n",
    "images = map(Image.open, fileList)\n",
    "widths, heights = zip(*(i.size for i in images))\n",
    "\n",
    "total_width = sum(widths)\n",
    "max_height = min(heights)\n",
    "\n",
    "new_im = Image.new('RGB', (total_width, max_height))\n",
    "\n",
    "x_offset = 0\n",
    "for im in images:\n",
    "  new_im.paste(im, (x_offset,0))\n",
    "  x_offset += im.size[0]\n",
    "\n",
    "new_im.save(os.path.join(path,'test.tif'))"
   ]
  }
 ],
 "metadata": {
  "kernelspec": {
   "display_name": "Python 2",
   "language": "python",
   "name": "python2"
  },
  "language_info": {
   "codemirror_mode": {
    "name": "ipython",
    "version": 2
   },
   "file_extension": ".py",
   "mimetype": "text/x-python",
   "name": "python",
   "nbconvert_exporter": "python",
   "pygments_lexer": "ipython2",
   "version": "2.7.6"
  }
 },
 "nbformat": 4,
 "nbformat_minor": 2
}
