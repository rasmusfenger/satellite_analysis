{
 "cells": [
  {
   "cell_type": "code",
   "execution_count": 9,
   "metadata": {
    "collapsed": false
   },
   "outputs": [],
   "source": [
    "# import\n",
    "import os\n",
    "import glob\n",
    "from satfunc import *\n",
    "from shapefunctions import *\n",
    "import glob"
   ]
  },
  {
   "cell_type": "code",
   "execution_count": null,
   "metadata": {
    "collapsed": true
   },
   "outputs": [],
   "source": [
    "# clip S2 export images to subset\n",
    "\n",
    "# input\n",
    "inFolder = '/Volumes/RASMUS_1/Satellite/S2/S2_atmcorr'\n",
    "site = 'sandnes'\n",
    "\n",
    "# distinguish between S2 tiles\n",
    "if site == 'iffiartafik' or site == 'sandnes':\n",
    "    tile = 'T22WES'\n",
    "elif site == 'qoornoq' or site == 'ersaa' or site == 'kangeq':\n",
    "    tile = 'T22WDS'\n",
    "\n",
    "# get clipfile (pleiades warp)\n",
    "clipFile = glob.glob(os.path.join('/Volumes/RASMUS_1/Satellite/remains_sites',site,'pleiades/*subset.tif'))[0]\n",
    "\n",
    "# loop through files in input folder\n",
    "inFileList = glob.glob(inFolder + '/*' + tile + '*.tif')\n",
    "for inFile in inFileList:\n",
    "    root,ext = os.path.splitext(inFile)\n",
    "    head,tail = os.path.split(root)\n",
    "    outFile = os.path.join('/Volumes/RASMUS_1/Satellite/remains_sites',site,'S2','atmcorr',tail + '_subset.tif')\n",
    "    clip_raster(inFile, outFile, clipFile)"
   ]
  },
  {
   "cell_type": "code",
   "execution_count": 12,
   "metadata": {
    "collapsed": false
   },
   "outputs": [],
   "source": [
    "# convert from DN to 0-1\n",
    "\n",
    "# for files in folder\n",
    "# input\n",
    "inFolder = '/Volumes/RASMUS_1/Satellite/remains_sites/kangeq/S2/toa'\n",
    "quantificationValue = 10000\n",
    "\n",
    "inFileList = glob.glob(inFolder + '/*_subset.tif')\n",
    "for inFile in inFileList:\n",
    "    outFile = inFile[:-4] + '_refl.tif'\n",
    "    dn2refl(inFile, outFile, quantificationValue)\n",
    "\n",
    "# for single file\n",
    "#site = 'ersaa'\n",
    "#inFile = glob.glob('/Volumes/RASMUS_1/Satellite/remains_sites/'+site+'/sequoia/*georef.tif')[0]\n",
    "#outFile = inFile[:-4] + '_refl.tif'\n",
    "#quantificationValue = 65534\n",
    "#quantificationValue = 32767\n",
    "#dn2refl(inFile, outFile, quantificationValue)\n"
   ]
  },
  {
   "cell_type": "code",
   "execution_count": 19,
   "metadata": {
    "collapsed": false
   },
   "outputs": [],
   "source": [
    "# put together eg. band 1 from a number of files etc.\n",
    "#input\n",
    "site = 'sandnes'\n",
    "\n",
    "inFolder = '/Volumes/RASMUS_1/Satellite/remains_sites/'+site+'/S2/atmcorr'\n",
    "inFileList = glob.glob(inFolder + '/*subset.tif')\n",
    "outFolder = '/Volumes/RASMUS_1/Satellite/remains_sites/'+site+'/S2/atmcorr'\n",
    "timebands(inFileList, outFolder)\n"
   ]
  },
  {
   "cell_type": "code",
   "execution_count": 6,
   "metadata": {
    "collapsed": true
   },
   "outputs": [],
   "source": [
    "# Reflectance to DN\n",
    "inFile = '/Volumes/RASMUS_1/Satellite/remains_sites/iffiartafik/pleiades/test2_refl.tif'\n",
    "outFile = '/Volumes/RASMUS_1/Satellite/remains_sites/iffiartafik/pleiades/test2_refl_DN256.tif'\n",
    "qv = 256\n",
    "#qv = 10000\n",
    "\n",
    "refl2dn(inFile, outFile, qv)\n",
    "#dn2refl(inFile, outFile, qv)"
   ]
  },
  {
   "cell_type": "code",
   "execution_count": 8,
   "metadata": {
    "collapsed": false
   },
   "outputs": [],
   "source": [
    "# clip pleiades file\n",
    "site = 'ersaa'\n",
    "\n",
    "# get input file\n",
    "inFile = glob.glob('/Volumes/RASMUS_1/Satellite/remains_sites/'+site+'/pleiades/*_ms_atmcorr.tif')[0]\n",
    "\n",
    "# get clipfile (pleiades warp)\n",
    "clipFile = glob.glob(os.path.join('/Volumes/RASMUS_1/Satellite/remains_sites',site,'pleiades/*subset_warp.tif'))[0]\n",
    "\n",
    "# do the clip\n",
    "root,ext = os.path.splitext(inFile)\n",
    "head,tail = os.path.split(root)\n",
    "outFile = os.path.join('/Volumes/RASMUS_1/Satellite/remains_sites',site,'pleiades',tail + '_subset.tif')\n",
    "clip_raster(inFile, outFile, clipFile)\n"
   ]
  },
  {
   "cell_type": "code",
   "execution_count": 8,
   "metadata": {
    "collapsed": false
   },
   "outputs": [],
   "source": [
    "# resample image\n",
    "from satfunc import *\n",
    "import glob\n",
    "site = 'sandnes'\n",
    "# pleiades\n",
    "#inFile = glob.glob('/Volumes/RASMUS_1/Satellite/remains_sites/'+site+'/pleiades/*atmcorr_subset.tif')[0]\n",
    "\n",
    "# sequoia\n",
    "inFile = glob.glob('/Volumes/RASMUS_1/Satellite/remains_sites/'+site+'/sequoia/*seqirrad_empcorr.tif')[0]\n",
    "\n",
    "outRes = 10\n",
    "resample(inFile,outRes)\n"
   ]
  },
  {
   "cell_type": "code",
   "execution_count": 16,
   "metadata": {
    "collapsed": false
   },
   "outputs": [],
   "source": [
    "# move raster\n",
    "import gdal\n",
    "import os\n",
    "import numpy as np\n",
    "\n",
    "site = 'ersaa'\n",
    "sensor = 'S2/atmcorr'\n",
    "#sensor = 'pleiades'\n",
    "#sensor = 'sequoia'\n",
    "\n",
    "# iffiartafik \n",
    "# S2\n",
    "#fileName = 'band_8.tif'\n",
    "#fileName = 'S2A_OPER_MSI_L1C_TL_SGS__20160728T202436_A005742_T22WES_atmcorr_subset.tif'\n",
    "#x = -12\n",
    "#y = -12\n",
    "#y = 7 (used for NIR figure in paper_1)\n",
    "# Pleiades\n",
    "#fileName = 'iffiartafik_pleiades_20160723_ms_atmcorr_subset.tif'\n",
    "#x = 2\n",
    "#y = 7.5\n",
    "# Sequoia\n",
    "#fileName = 'iffiartafik_2016_100m_seqirrad_empcorr.tif'\n",
    "#x = 1.3\n",
    "#y = -2\n",
    "\n",
    "# Kangeq\n",
    "# S2\n",
    "#fileName = 'band_8.tif'\n",
    "#x = -4\n",
    "#y = 2\n",
    "# Pleiades\n",
    "#fileName = 'kangeq_pleiades_20160831_ms_atmcorr_subset.tif'\n",
    "#x = 0\n",
    "#y = 3\n",
    "# Sequoia\n",
    "#fileName = 'kangeq_2016_sequoia_80m_seqirrad_empcorr.tif'\n",
    "#x = 0\n",
    "#y = -1\n",
    "\n",
    "# Ersaa\n",
    "# S2\n",
    "fileName = 'band_2.tif'\n",
    "x = -12\n",
    "y = 0\n",
    "\n",
    "inPath = '/Volumes/RASMUS_1/Satellite/remains_sites/'+site+'/'+sensor\n",
    "\n",
    "inFile = os.path.join(inPath, fileName)\n",
    "outFile = inFile[:-4] + '_moved.tif'\n",
    "\n",
    "ds = gdal.Open(inFile)\n",
    "# xmin\n",
    "# ymax\n",
    "gt = ds.GetGeoTransform()\n",
    "xmin = gt[0] + x\n",
    "ymax = gt[3] + y\n",
    "newTrans = (xmin,gt[1],gt[2],ymax,gt[4],gt[5])\n",
    "\n",
    "drv = gdal.GetDriverByName('GTiff')\n",
    "outTif = drv.Create(outFile, ds.RasterXSize, ds.RasterYSize, ds.RasterCount, gdal.GDT_Float32)\n",
    "outTif.SetGeoTransform(newTrans)\n",
    "outTif.SetProjection(ds.GetProjection())\n",
    "for band in range(ds.RasterCount):\n",
    "    band += 1\n",
    "    array = ds.GetRasterBand(band).ReadAsArray().astype(np.float32)\n",
    "    outTif.GetRasterBand(band).WriteArray(array)\n",
    "outTif = None"
   ]
  },
  {
   "cell_type": "code",
   "execution_count": 4,
   "metadata": {
    "collapsed": false
   },
   "outputs": [],
   "source": [
    "from satfunc import *\n",
    "inFile = '/Volumes/RASMUS_1/Satellite/Pleiades/atmcorr_test_moved.tif'\n",
    "outFile = '/Volumes/RASMUS_1/Satellite/Pleiades/atmcorr_test_moved_matchS2.tif'\n",
    "clipFile = '/Volumes/RASMUS_1/Satellite/remains_sites/iffiartafik/S2/S2A_OPER_MSI_L1C_TL_SGS__20160725T201900_A005699_T22WES_atmcorr_subset.tif'\n",
    "\n",
    "clip_match_raster(inFile, outFile, clipFile)"
   ]
  }
 ],
 "metadata": {
  "kernelspec": {
   "display_name": "Python 2",
   "language": "python",
   "name": "python2"
  },
  "language_info": {
   "codemirror_mode": {
    "name": "ipython",
    "version": 2
   },
   "file_extension": ".py",
   "mimetype": "text/x-python",
   "name": "python",
   "nbconvert_exporter": "python",
   "pygments_lexer": "ipython2",
   "version": "2.7.6"
  }
 },
 "nbformat": 4,
 "nbformat_minor": 2
}
